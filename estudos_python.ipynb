{
 "cells": [
  {
   "attachments": {},
   "cell_type": "markdown",
   "metadata": {},
   "source": [
    "# **PRINT**"
   ]
  },
  {
   "cell_type": "code",
   "execution_count": 6,
   "metadata": {},
   "outputs": [
    {
     "name": "stdout",
     "output_type": "stream",
     "text": [
      "hello-world\n",
      "hello, world\n",
      "hello\n",
      "My name is John Doe\n",
      "My name is John and I am 30 years old\n"
     ]
    }
   ],
   "source": [
    "# Usando sep\n",
    "print('hello', 'world', sep='-')\n",
    "\n",
    "# Usando end\n",
    "print('hello', end=', ')\n",
    "print('world') \n",
    "\n",
    "# Usando file\n",
    "with open('output.txt', 'w') as f:\n",
    "    print('hello', 'world', file=f)\n",
    "\n",
    "# Usando flush\n",
    "print('hello', flush=True)\n",
    "\n",
    "# Usando múltiplos argumentos\n",
    "print('My name is', 'John', 'Doe')\n",
    "\n",
    "# Concatenando strings e valores\n",
    "name = 'John'\n",
    "age = 30\n",
    "print('My name is ' + name + ' and I am ' + str(age) + ' years old') \n"
   ]
  },
  {
   "attachments": {},
   "cell_type": "markdown",
   "metadata": {},
   "source": [
    "# **DATA TYPES**"
   ]
  },
  {
   "cell_type": "code",
   "execution_count": null,
   "metadata": {},
   "outputs": [],
   "source": [
    "# Números\n",
    "x = 10       # int\n",
    "y = 3.14     # float\n",
    "z = 2 + 3j   # complex\n",
    "\n",
    "# Booleanos\n",
    "a = True\n",
    "b = False\n",
    "\n",
    "# Sequências\n",
    "s = \"hello\"         # str\n",
    "l = [1, 2, 3]       # list\n",
    "t = (4, 5, 6)       # tuple\n",
    "r = range(0, 10)    # range\n",
    "\n",
    "# Conjuntos\n",
    "s1 = {1, 2, 3}      # set\n",
    "s2 = frozenset({4, 5, 6})   # frozenset\n",
    "\n",
    "# Dicionários\n",
    "d = {'name': 'John', 'age': 30}\n",
    "\n",
    "# Acessando valores\n",
    "print(x)            # Saída: 10\n",
    "print(s[0])         # Saída: \"h\"\n",
    "print(l[1])         # Saída: 2\n",
    "print(t[2])         # Saída: 6\n",
    "print(s1)           # Saída: {1, 2, 3}\n",
    "print(d['name'])    # Saída: \"John\""
   ]
  },
  {
   "attachments": {},
   "cell_type": "markdown",
   "metadata": {},
   "source": [
    "# **VARIÁVEIS**"
   ]
  },
  {
   "cell_type": "code",
   "execution_count": null,
   "metadata": {},
   "outputs": [],
   "source": [
    "# O sinal de igual é um operador de atribuição. Ele será responsável por atribuir valor à uma variável.\n",
    "\n",
    "# Variáveis\n",
    "nome_completo = 'São Marcos José Fonseca'\n",
    "\n",
    "soma_de_valores = 2 + 2\n",
    "\n",
    "inteiro_um = int(\"1\")\n",
    "\n",
    "# Mostrando saída das variáveis\n",
    "\n",
    "print(nome_completo, soma_de_valores)\n",
    "print(inteiro_um, type (inteiro_um))\n",
    "\n",
    "# Para uma melhor compreensão, passe o ponteiro do mouse por cima das variáveis."
   ]
  },
  {
   "cell_type": "code",
   "execution_count": null,
   "metadata": {},
   "outputs": [],
   "source": [
    "nome = 'Luiz'\n",
    "idade = 32\n",
    "\n",
    "''' nesse caso, maior idade seria um boleano, pois o código verifica se a idade armazenada na variável \"idade\" é maior ou igual a 18.\n",
    " Se for verdadeiro, a variável \"maior_idade\" recebe True, caso contrário, \"maior_idade\" recebe False.'''\n",
    "maior_idade = idade >= 18\n",
    "\n",
    "print('Nome: ', nome, 'Idade: ', idade)\n",
    "print('É de maior?', maior_idade)"
   ]
  },
  {
   "attachments": {},
   "cell_type": "markdown",
   "metadata": {},
   "source": [
    "Exercício: Crie uma variável para cada uma das variáveis abaixo e imprima o tipo de cada uma delas.\n",
    "---\n",
    "Terão as seguintes variáveis\n",
    "- Nome: \n",
    "- Idade: \n",
    "- É maior de idade? \n",
    "- Sobrenome:\n",
    "- Ano de nascimento:  \n",
    "- Altura em metros:\n"
   ]
  },
  {
   "cell_type": "code",
   "execution_count": null,
   "metadata": {},
   "outputs": [],
   "source": [
    "# declaração de variáveis\n",
    "nome = input('qual o seu nome?')\n",
    "idade = int(input('qual a sua idade?'))\n",
    "maior_idade = idade >= 18\n",
    "sobrenome = input('qual o seu sobrenome? ')\n",
    "ano_nascimento = input('sua data de nascimento: ')\n",
    "altura = float(input('qual sua altura?'))\n",
    "\n",
    "# mostrar classe e printar\n",
    "print(type(nome),'Nome:', nome)\n",
    "print(type(idade),'Idade:', idade)\n",
    "print(type(maior_idade),'É de maior?', maior_idade)\n",
    "print(type(sobrenome), 'Sobrenome: ', sobrenome)\n",
    "print(type(ano_nascimento), 'Data de nascimento: ', ano_nascimento)\n",
    "print(type(altura), 'Altura: ', altura)"
   ]
  },
  {
   "attachments": {},
   "cell_type": "markdown",
   "metadata": {},
   "source": [
    "# **OPERADORES ARITIMÉTICOS**"
   ]
  },
  {
   "cell_type": "code",
   "execution_count": 2,
   "metadata": {},
   "outputs": [],
   "source": [
    "adição = 2 + 2\n",
    "print = ('adição: ', adição)\n",
    "\n",
    "subtração = 10 - 5\n",
    "print = ('subtração: ', subtração)\n",
    "\n",
    "multiplicação = 2 * 2\n",
    "print = ('multiplicação: ', multiplicação)\n",
    "\n",
    "divisão = 10 / 3.5 #\n",
    "print = ('divisão com valor float: ', divisão)\n",
    "\n",
    "divisão_inteira = 10 // 3 #divisão do tipo int\n",
    "print = ('divisão com valores inteiros', divisão_inteira)\n",
    "\n",
    "exponenciação = 2 ** 3 #número elevado a outro\n",
    "print = ('exponenciação: ', exponenciação)\n",
    "\n",
    "modulo = 10 % 3 #resto da divisão\n",
    "print = ('resto: ', modulo)\n",
    "print = ('o primeiro valor é divisível pelo segundo? ', modulo == 0)\n",
    "\n",
    "'''Obs: (/) em Python para fazer uma divisão entre dois números,\n",
    "o resultado será um número com ponto flutuante (float),\n",
    "mesmo que os números divididos sejam inteiros.\n",
    "Já quando usamos duas barras (//) para fazer a divisão,\n",
    "o resultado será um número inteiro (int), ignorando o resto da divisão.'''"
   ]
  },
  {
   "attachments": {},
   "cell_type": "markdown",
   "metadata": {},
   "source": [
    "Concatenação ( + ) e repetição ( * )\n",
    "---"
   ]
  },
  {
   "cell_type": "code",
   "execution_count": null,
   "metadata": {},
   "outputs": [],
   "source": [
    "# Concatenação de strings\n",
    "concatenacao = 'Kawê' + ' ' + 'Ewkekw'\n",
    "print(concatenacao)\n",
    "\n",
    "# Repetição de caracteres\n",
    "a_dez_vezes = 'A' * 10\n",
    "tres_vezes_kawe = 3 * 'kawe'\n",
    "print(a_dez_vezes)\n",
    "print(tres_vezes_kawe)"
   ]
  },
  {
   "attachments": {},
   "cell_type": "markdown",
   "metadata": {},
   "source": [
    "Ordem de importância de conceitos matemáticos\n",
    "---"
   ]
  },
  {
   "cell_type": "code",
   "execution_count": null,
   "metadata": {},
   "outputs": [],
   "source": [
    "# 1. (n + n)\n",
    "# 2. **\n",
    "# 3. * / // % \n",
    "# 4. + -\n",
    "conta_1 = (1 + int(0.5 + 0.5)) ** (5 + 5)\n",
    "print(conta_1)"
   ]
  },
  {
   "attachments": {},
   "cell_type": "markdown",
   "metadata": {},
   "source": [
    "Exercício do cálculo de IMC (Índice de massa corporal)\n",
    "---\n",
    "\n",
    "- o IMC é calculado dividindo o peso (em kg) pela altura ao quadrado (em metros)."
   ]
  },
  {
   "cell_type": "code",
   "execution_count": null,
   "metadata": {},
   "outputs": [],
   "source": [
    "nome = input('Qual o seu nome? ')\n",
    "peso = (float(input('Qual o seu peso? ')))\n",
    "altura = (float(input('Qual a sua altura? ')))\n",
    "imc = peso / (altura ** 2)\n",
    "\n",
    "print(nome, ', seu IMC é: ', imc, sep = (''))"
   ]
  },
  {
   "attachments": {},
   "cell_type": "markdown",
   "metadata": {},
   "source": [
    "Formatação de Strings\n",
    "---"
   ]
  },
  {
   "cell_type": "code",
   "execution_count": 15,
   "metadata": {},
   "outputs": [
    {
     "name": "stdout",
     "output_type": "stream",
     "text": [
      "Luiz Otávio tem 1.80 de altura,\n",
      "pesa 95 quilos e seu imc é\n",
      "29.32\n"
     ]
    }
   ],
   "source": [
    "# definindo as variáveis\n",
    "nome = 'Luiz Otávio'\n",
    "altura = 1.80\n",
    "peso = 95\n",
    "\n",
    "# cálculo do IMC\n",
    "imc = peso / altura ** 2\n",
    "\n",
    "# criando strings formatadas com f-strings\n",
    "linha_1 = f'{nome} tem {altura:.2f} de altura,'\n",
    "linha_2 = f'pesa {peso} quilos e seu imc é'\n",
    "linha_3 = f'{imc:.2f}'\n",
    "\n",
    "# exibindo as linhas formatadas\n",
    "print(linha_1)\n",
    "print(linha_2)\n",
    "print(linha_3)\n",
    "\n",
    "#Obs: \".2f\" é referente ao número de casas decimáis que irão aparecer, nesse caso são duas."
   ]
  },
  {
   "cell_type": "code",
   "execution_count": 16,
   "metadata": {},
   "outputs": [
    {
     "name": "stdout",
     "output_type": "stream",
     "text": [
      "b=BBBBBB a=AAAAA a=AAAAA c=1.10\n"
     ]
    }
   ],
   "source": [
    "# Definindo as variáveis\n",
    "a = 'AAAAA'\n",
    "b = 'BBBBBB'\n",
    "c = 1.1\n",
    "\n",
    "# Definindo a string formatada com placeholders\n",
    "string = 'b={nome2} a={nome1} a={nome1} c={nome3:.2f}'\n",
    "\n",
    "# Formatando a string com os valores das variáveis\n",
    "formato = string.format(\n",
    "    nome1=a, nome2=b, nome3=c\n",
    ")\n",
    "\n",
    "# Imprimindo o resultado formatado\n",
    "print(formato)"
   ]
  }
 ],
 "metadata": {
  "kernelspec": {
   "display_name": "venv",
   "language": "python",
   "name": "python3"
  },
  "language_info": {
   "codemirror_mode": {
    "name": "ipython",
    "version": 3
   },
   "file_extension": ".py",
   "mimetype": "text/x-python",
   "name": "python",
   "nbconvert_exporter": "python",
   "pygments_lexer": "ipython3",
   "version": "3.11.2"
  },
  "orig_nbformat": 4
 },
 "nbformat": 4,
 "nbformat_minor": 2
}
