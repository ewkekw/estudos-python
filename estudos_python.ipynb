{
 "cells": [
  {
   "attachments": {},
   "cell_type": "markdown",
   "metadata": {},
   "source": [
    "# **PRINT**"
   ]
  },
  {
   "cell_type": "code",
   "execution_count": 6,
   "metadata": {},
   "outputs": [
    {
     "name": "stdout",
     "output_type": "stream",
     "text": [
      "hello-world\n",
      "hello, world\n",
      "hello\n",
      "My name is John Doe\n",
      "My name is John and I am 30 years old\n"
     ]
    }
   ],
   "source": [
    "# Usando sep\n",
    "print('hello', 'world', sep='-')\n",
    "\n",
    "# Usando end\n",
    "print('hello', end=', ')\n",
    "print('world') \n",
    "\n",
    "# Usando file\n",
    "with open('output.txt', 'w') as f:\n",
    "    print('hello', 'world', file=f)\n",
    "\n",
    "# Usando flush\n",
    "print('hello', flush=True)\n",
    "\n",
    "# Usando múltiplos argumentos\n",
    "print('My name is', 'John', 'Doe')\n",
    "\n",
    "# Concatenando strings e valores\n",
    "name = 'John'\n",
    "age = 30\n",
    "print('My name is ' + name + ' and I am ' + str(age) + ' years old') \n"
   ]
  },
  {
   "attachments": {},
   "cell_type": "markdown",
   "metadata": {},
   "source": [
    "# **DATA TYPES**"
   ]
  },
  {
   "cell_type": "code",
   "execution_count": null,
   "metadata": {},
   "outputs": [],
   "source": [
    "# Números\n",
    "x = 10       # int\n",
    "y = 3.14     # float\n",
    "z = 2 + 3j   # complex\n",
    "\n",
    "# Booleanos\n",
    "a = True\n",
    "b = False\n",
    "\n",
    "# Sequências\n",
    "s = \"hello\"         # str\n",
    "l = [1, 2, 3]       # list\n",
    "t = (4, 5, 6)       # tuple\n",
    "r = range(0, 10)    # range\n",
    "\n",
    "# Conjuntos\n",
    "s1 = {1, 2, 3}      # set\n",
    "s2 = frozenset({4, 5, 6})   # frozenset\n",
    "\n",
    "# Dicionários\n",
    "d = {'name': 'John', 'age': 30}\n",
    "\n",
    "# Acessando valores\n",
    "print(x)            # Saída: 10\n",
    "print(s[0])         # Saída: \"h\"\n",
    "print(l[1])         # Saída: 2\n",
    "print(t[2])         # Saída: 6\n",
    "print(s1)           # Saída: {1, 2, 3}\n",
    "print(d['name'])    # Saída: \"John\""
   ]
  },
  {
   "attachments": {},
   "cell_type": "markdown",
   "metadata": {},
   "source": [
    "# **VARIÁVEIS**"
   ]
  },
  {
   "cell_type": "code",
   "execution_count": null,
   "metadata": {},
   "outputs": [],
   "source": [
    "# O sinal de igual é um operador de atribuição. Ele será responsável por atribuir valor à uma variável.\n",
    "\n",
    "# Variáveis\n",
    "nome_completo = 'São Marcos José Fonseca'\n",
    "\n",
    "soma_de_valores = 2 + 2\n",
    "\n",
    "inteiro_um = int(\"1\")\n",
    "\n",
    "# Mostrando saída das variáveis\n",
    "\n",
    "print(nome_completo, soma_de_valores)\n",
    "print(inteiro_um, type (inteiro_um))\n",
    "\n",
    "# Para uma melhor compreensão, passe o ponteiro do mouse por cima das variáveis."
   ]
  },
  {
   "cell_type": "code",
   "execution_count": null,
   "metadata": {},
   "outputs": [],
   "source": [
    "nome = 'Luiz'\n",
    "idade = 32\n",
    "\n",
    "''' nesse caso, maior idade seria um boleano, pois o código verifica se a idade armazenada na variável \"idade\" é maior ou igual a 18.\n",
    " Se for verdadeiro, a variável \"maior_idade\" recebe True, caso contrário, \"maior_idade\" recebe False.'''\n",
    "maior_idade = idade >= 18\n",
    "\n",
    "print('Nome: ', nome, 'Idade: ', idade)\n",
    "print('É de maior?', maior_idade)"
   ]
  },
  {
   "attachments": {},
   "cell_type": "markdown",
   "metadata": {},
   "source": [
    "Exercício: Crie uma variável para cada uma das variáveis abaixo e imprima o tipo de cada uma delas.\n",
    "---\n",
    "Terão as seguintes variáveis\n",
    "- Nome: \n",
    "- Idade: \n",
    "- É maior de idade? \n",
    "- Sobrenome:\n",
    "- Ano de nascimento:  \n",
    "- Altura em metros:\n"
   ]
  },
  {
   "cell_type": "code",
   "execution_count": 4,
   "metadata": {},
   "outputs": [
    {
     "name": "stdout",
     "output_type": "stream",
     "text": [
      "<class 'str'> Nome: kkawe\n"
     ]
    }
   ],
   "source": [
    "# declaração de variáveis\n",
    "nome = input('qual o seu nome?')\n",
    "idade = int(input('qual a sua idade?'))\n",
    "maior_idade = idade >= 18\n",
    "sobrenome = ('qual o seu sobrenome? ')\n",
    "ano_nascimento = input('sua data de nascimento: ')\n",
    "altura = float(input('qual sua altura?'))\n",
    "\n",
    "# mostrar classe e printar\n",
    "print(type(nome),'Nome:', nome)\n",
    "print(type(idade),'Idade:', idade)\n",
    "print(type(maior_idade),'É de maior?', maior_idade)"
   ]
  }
 ],
 "metadata": {
  "kernelspec": {
   "display_name": "venv",
   "language": "python",
   "name": "python3"
  },
  "language_info": {
   "codemirror_mode": {
    "name": "ipython",
    "version": 3
   },
   "file_extension": ".py",
   "mimetype": "text/x-python",
   "name": "python",
   "nbconvert_exporter": "python",
   "pygments_lexer": "ipython3",
   "version": "3.11.2"
  },
  "orig_nbformat": 4
 },
 "nbformat": 4,
 "nbformat_minor": 2
}
